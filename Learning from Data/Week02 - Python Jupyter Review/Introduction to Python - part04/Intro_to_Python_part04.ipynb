{
 "cells": [
  {
   "cell_type": "code",
   "execution_count": 1,
   "metadata": {},
   "outputs": [],
   "source": [
    "# Summary from the previous classes: lines starting with a # are comments\n",
    "\n",
    "an_integer_number = 1\n",
    "a_float = 0.33\n",
    "\n",
    "a_string_of_characters = 'abcd'\n",
    "another_string         = \"dcba\"\n",
    "\n",
    "my_list = [ \"apple\", \"banana\", \"coconut\", \"durian\" ]\n",
    "\n",
    "my_dictionary = {\n",
    "                  \"apple\":\"red\",\n",
    "                  \"banana\":\"yellow\",\n",
    "                  \"cherry\":\"red\",\n",
    "                  \"durian\":\"varies\"\n",
    "                }"
   ]
  },
  {
   "cell_type": "code",
   "execution_count": null,
   "metadata": {},
   "outputs": [],
   "source": [
    "# Conditional statements\n",
    "\n",
    "z = 1 + 2\n",
    "\n",
    "if z == 12: \n",
    "    print(\"Hmm...should this be? \")\n",
    "    \n",
    "elif z == 3:\n",
    "    print(\"Okay, I was worried for a second there.\")    \n",
    "    \n",
    "else: \n",
    "    print(\"I give up.\")"
   ]
  },
  {
   "cell_type": "code",
   "execution_count": null,
   "metadata": {},
   "outputs": [],
   "source": [
    "# For loops\n",
    "\n",
    "my_list = [ \"Apple\", \"Banana\", \"Coconut\", \"Durian\" ]\n",
    "\n",
    "for i in my_list:\n",
    "    print( i[2:] + '-' + i[:2] )"
   ]
  },
  {
   "cell_type": "code",
   "execution_count": null,
   "metadata": {},
   "outputs": [],
   "source": [
    "# List comprehensions\n",
    "\n",
    "capital_list = [ i.upper() for i in my_list ]\n",
    "\n",
    "print(capital_list)\n",
    "\n",
    "scrambled_list = [ i[2:] + '-' + i[:2] for i in my_list ]\n",
    "\n",
    "print(scrambled_list)"
   ]
  },
  {
   "cell_type": "code",
   "execution_count": null,
   "metadata": {},
   "outputs": [],
   "source": [
    "# While loops\n",
    "\n",
    "counter = 0\n",
    "counter_max = 99\n",
    "\n",
    "while counter < counter_max:\n",
    "    \n",
    "    print(\"If this line is printed, it means counter < counter_max\")\n",
    "    \n",
    "    counter += 10\n",
    "    \n",
    "    print(\"counter =\", counter)"
   ]
  },
  {
   "cell_type": "code",
   "execution_count": null,
   "metadata": {},
   "outputs": [],
   "source": [
    "# Reading and writing from files\n",
    "\n",
    "my_file = open(\"example_file.txt\",'r')\n",
    "\n",
    "for line in my_file: \n",
    "    print(line)\n",
    "\n",
    "my_file.close()"
   ]
  },
  {
   "cell_type": "code",
   "execution_count": null,
   "metadata": {},
   "outputs": [],
   "source": [
    "# Functions\n",
    "\n",
    "def myEmail( name, domain='oii.ox.ac.uk' ):\n",
    "    return name + '@' + domain\n",
    "\n",
    "newemail = myEmail(\"chico.camargo\")\n",
    "print(newemail)"
   ]
  },
  {
   "cell_type": "markdown",
   "metadata": {},
   "source": [
    "Lecture 4 - Data analysis with *pandas*\n",
    "===\n",
    "\n",
    "Welcome to the fourth lecture of this course! Now that you have learned about lists, dictionaries, ```for``` loops, ```if```, ```else```, ```try```, ```except```, input-output and functions, it's time to introduce you to your first data analysis tool.\n",
    "\n",
    "\n",
    "We will be analysing comments from a YouTube video by the South Korean-Chinese boy band [EXO](https://en.wikipedia.org/wiki/Exo_%28band%29).\n",
    "\n",
    "We have provided you with a ```.tsv``` file containing thousands of comments. ```.tsv``` stands for a file containing tab-separated values. You might also encounter files where the values are separated by commas (```,```), semicolons (```;```), or other characters.\n",
    "\n",
    "Let's start by opening the file in the way we learned in the previous lecture, and printing its first 3 lines:"
   ]
  },
  {
   "cell_type": "code",
   "execution_count": 5,
   "metadata": {},
   "outputs": [
    {
     "name": "stdout",
     "output_type": "stream",
     "text": [
      "Search\tTitle\tVideoID\tCommentID\tCommentPublished\tCommentUpdated\tCommentTextDisplay\tCommentAuthorName\tCommentAuthorURI\tCommentCanReply\tCommentTotalReplyCount\tCommentisPublic\tCommentLikeCount\tCommentVewerRating\tIsReply\tCommentPosterInfo\n",
      "\n",
      "https://www.youtube.com/channel/UCEf_Bc-KVd7onSeifS3py9g\tEXO_으르렁 (Growl)_Music Video (Korean ver.)\tI3dezFzsNss\tz22xh5jg4k2qihsxa04t1aokg4s1z3dasi1t0x00bl0rbk0h00410\t2017-08-02T12:30:41.000Z\t2017-08-02T12:30:41.000Z\thi love your group😍😍\tNaomi Nicole Yambao\thttp://www.youtube.com/channel/UCgKNWcyzGUki05-dWN6ow8g\t false\t 0\ttrue\t 0\tnone\t0\n",
      "\n",
      "https://www.youtube.com/channel/UCEf_Bc-KVd7onSeifS3py9g\tEXO_으르렁 (Growl)_Music Video (Korean ver.)\tI3dezFzsNss\tz23uexlogtr2tlpuxacdp430horwegylmjduvkgwwydw03c010c\t2017-08-02T12:22:35.000Z\t2017-08-02T12:22:35.000Z\tI reply love exo.\tAhmad Farhan Zarin\thttp://www.youtube.com/channel/UCPgG5K1vZ11Ml-AX1xJ2ItA\t false\t 0\ttrue\t 0\tnone\t0\n",
      "\n"
     ]
    }
   ],
   "source": [
    "# Open file and print the first 3 lines\n",
    "\n",
    "with open('IoP18_kpop_comments.tsv', 'r', encoding='utf-8') as f:\n",
    "\n",
    "    lines_read = 0\n",
    "    \n",
    "    for line in f:  \n",
    "        lines_read += 1        \n",
    "        \n",
    "        if lines_read <= 3:\n",
    "            print(line)\n",
    "        else:\n",
    "            break"
   ]
  },
  {
   "cell_type": "markdown",
   "metadata": {},
   "source": [
    "As you can see, the lines in this file contain a lot of information about different elements of the comments, such as their text, or the number of likes and replies. It would be very cumbersome to read and process this file line by line. Fortunately, there is a python library built exactly for this purpose: it's called **pandas**.\n",
    "\n",
    "A python library is a code package that adds new objects, functions and methods to your toolkit. **pandas** is an open source library providing high-performance, easy-to-use tools for data analysis.\n",
    "\n",
    "Let's get started by importing **pandas**.\n",
    "\n",
    "We do this by asking python to import it and giving it an alias. In this case, we'll call it **pd**:"
   ]
  },
  {
   "cell_type": "code",
   "execution_count": 6,
   "metadata": {},
   "outputs": [],
   "source": [
    "import pandas as pd"
   ]
  },
  {
   "cell_type": "markdown",
   "metadata": {},
   "source": [
    "After we run the code above, whenever we want to use a function from **pandas**, such as the function ```read_csv``` we just need to write ```pd.read_csv()```, with the filename, and the delimiter, which in this case is the _tab_ character ```\\t```.\n",
    "\n",
    "Now let's load the dataset:"
   ]
  },
  {
   "cell_type": "code",
   "execution_count": 7,
   "metadata": {},
   "outputs": [
    {
     "name": "stdout",
     "output_type": "stream",
     "text": [
      "<class 'pandas.core.frame.DataFrame'>\n"
     ]
    }
   ],
   "source": [
    "raw_comments = pd.read_csv('IoP18_kpop_comments.tsv', delimiter='\\t')\n",
    "\n",
    "print( type(raw_comments) )"
   ]
  },
  {
   "cell_type": "markdown",
   "metadata": {},
   "source": [
    "The function ```pd.read_csv()``` returns a new variable of the type **DataFrame**. You can think of this object as a spreadsheet.\n",
    "\n",
    "The command ```raw_comments.head()``` shows the first rows of the dataframe ```raw_comments```:"
   ]
  },
  {
   "cell_type": "code",
   "execution_count": 8,
   "metadata": {},
   "outputs": [
    {
     "data": {
      "text/html": [
       "<div>\n",
       "<style scoped>\n",
       "    .dataframe tbody tr th:only-of-type {\n",
       "        vertical-align: middle;\n",
       "    }\n",
       "\n",
       "    .dataframe tbody tr th {\n",
       "        vertical-align: top;\n",
       "    }\n",
       "\n",
       "    .dataframe thead th {\n",
       "        text-align: right;\n",
       "    }\n",
       "</style>\n",
       "<table border=\"1\" class=\"dataframe\">\n",
       "  <thead>\n",
       "    <tr style=\"text-align: right;\">\n",
       "      <th></th>\n",
       "      <th>Search</th>\n",
       "      <th>Title</th>\n",
       "      <th>VideoID</th>\n",
       "      <th>CommentID</th>\n",
       "      <th>CommentPublished</th>\n",
       "      <th>CommentUpdated</th>\n",
       "      <th>CommentTextDisplay</th>\n",
       "      <th>CommentAuthorName</th>\n",
       "      <th>CommentAuthorURI</th>\n",
       "      <th>CommentCanReply</th>\n",
       "      <th>CommentTotalReplyCount</th>\n",
       "      <th>CommentisPublic</th>\n",
       "      <th>CommentLikeCount</th>\n",
       "      <th>CommentVewerRating</th>\n",
       "      <th>IsReply</th>\n",
       "      <th>CommentPosterInfo</th>\n",
       "    </tr>\n",
       "  </thead>\n",
       "  <tbody>\n",
       "    <tr>\n",
       "      <th>0</th>\n",
       "      <td>https://www.youtube.com/channel/UCEf_Bc-KVd7on...</td>\n",
       "      <td>EXO_으르렁 (Growl)_Music Video (Korean ver.)</td>\n",
       "      <td>I3dezFzsNss</td>\n",
       "      <td>z22xh5jg4k2qihsxa04t1aokg4s1z3dasi1t0x00bl0rbk...</td>\n",
       "      <td>2017-08-02T12:30:41.000Z</td>\n",
       "      <td>2017-08-02T12:30:41.000Z</td>\n",
       "      <td>hi love your group😍😍</td>\n",
       "      <td>Naomi Nicole Yambao</td>\n",
       "      <td>http://www.youtube.com/channel/UCgKNWcyzGUki05...</td>\n",
       "      <td>false</td>\n",
       "      <td>0.0</td>\n",
       "      <td>True</td>\n",
       "      <td>0.0</td>\n",
       "      <td>none</td>\n",
       "      <td>0.0</td>\n",
       "      <td>NaN</td>\n",
       "    </tr>\n",
       "    <tr>\n",
       "      <th>1</th>\n",
       "      <td>https://www.youtube.com/channel/UCEf_Bc-KVd7on...</td>\n",
       "      <td>EXO_으르렁 (Growl)_Music Video (Korean ver.)</td>\n",
       "      <td>I3dezFzsNss</td>\n",
       "      <td>z23uexlogtr2tlpuxacdp430horwegylmjduvkgwwydw03...</td>\n",
       "      <td>2017-08-02T12:22:35.000Z</td>\n",
       "      <td>2017-08-02T12:22:35.000Z</td>\n",
       "      <td>I reply love exo.</td>\n",
       "      <td>Ahmad Farhan Zarin</td>\n",
       "      <td>http://www.youtube.com/channel/UCPgG5K1vZ11Ml-...</td>\n",
       "      <td>false</td>\n",
       "      <td>0.0</td>\n",
       "      <td>True</td>\n",
       "      <td>0.0</td>\n",
       "      <td>none</td>\n",
       "      <td>0.0</td>\n",
       "      <td>NaN</td>\n",
       "    </tr>\n",
       "    <tr>\n",
       "      <th>2</th>\n",
       "      <td>https://www.youtube.com/channel/UCEf_Bc-KVd7on...</td>\n",
       "      <td>EXO_으르렁 (Growl)_Music Video (Korean ver.)</td>\n",
       "      <td>I3dezFzsNss</td>\n",
       "      <td>z230ibrzhyyqvbb5k04t1aokgimmqowmdk3y52tvq1mlbk...</td>\n",
       "      <td>2017-08-02T10:03:26.000Z</td>\n",
       "      <td>2017-08-02T10:03:26.000Z</td>\n",
       "      <td>I love exo  gussssssss 💜💜💜💜💜💜💜💜💜💜</td>\n",
       "      <td>sheridan tulio</td>\n",
       "      <td>http://www.youtube.com/channel/UCBEz6cQfyxMC9G...</td>\n",
       "      <td>false</td>\n",
       "      <td>0.0</td>\n",
       "      <td>True</td>\n",
       "      <td>0.0</td>\n",
       "      <td>none</td>\n",
       "      <td>0.0</td>\n",
       "      <td>NaN</td>\n",
       "    </tr>\n",
       "    <tr>\n",
       "      <th>3</th>\n",
       "      <td>https://www.youtube.com/channel/UCEf_Bc-KVd7on...</td>\n",
       "      <td>EXO_으르렁 (Growl)_Music Video (Korean ver.)</td>\n",
       "      <td>I3dezFzsNss</td>\n",
       "      <td>z224etfowwr2wvzwm04t1aokgljq3oegusu4ltzmc5mdbk...</td>\n",
       "      <td>2017-08-02T09:13:33.000Z</td>\n",
       "      <td>2017-08-02T09:13:33.000Z</td>\n",
       "      <td>pause the video at exactly 1:10 and you nothic...</td>\n",
       "      <td>Seraph Gaming</td>\n",
       "      <td>http://www.youtube.com/channel/UCfa8YIK7eVm_9g...</td>\n",
       "      <td>false</td>\n",
       "      <td>0.0</td>\n",
       "      <td>True</td>\n",
       "      <td>0.0</td>\n",
       "      <td>none</td>\n",
       "      <td>0.0</td>\n",
       "      <td>NaN</td>\n",
       "    </tr>\n",
       "    <tr>\n",
       "      <th>4</th>\n",
       "      <td>https://www.youtube.com/channel/UCEf_Bc-KVd7on...</td>\n",
       "      <td>EXO_으르렁 (Growl)_Music Video (Korean ver.)</td>\n",
       "      <td>I3dezFzsNss</td>\n",
       "      <td>z22vw5fylsv2sxzaq04t1aokg4nt21krutepbqls05zrbk...</td>\n",
       "      <td>2017-08-01T23:04:24.000Z</td>\n",
       "      <td>2017-08-01T23:04:24.000Z</td>\n",
       "      <td>I have watched this way too many times for my ...</td>\n",
       "      <td>Ashleigh Sharman</td>\n",
       "      <td>http://www.youtube.com/channel/UCCisZVYC0gOOmn...</td>\n",
       "      <td>false</td>\n",
       "      <td>0.0</td>\n",
       "      <td>True</td>\n",
       "      <td>0.0</td>\n",
       "      <td>none</td>\n",
       "      <td>0.0</td>\n",
       "      <td>NaN</td>\n",
       "    </tr>\n",
       "  </tbody>\n",
       "</table>\n",
       "</div>"
      ],
      "text/plain": [
       "                                              Search  \\\n",
       "0  https://www.youtube.com/channel/UCEf_Bc-KVd7on...   \n",
       "1  https://www.youtube.com/channel/UCEf_Bc-KVd7on...   \n",
       "2  https://www.youtube.com/channel/UCEf_Bc-KVd7on...   \n",
       "3  https://www.youtube.com/channel/UCEf_Bc-KVd7on...   \n",
       "4  https://www.youtube.com/channel/UCEf_Bc-KVd7on...   \n",
       "\n",
       "                                       Title      VideoID  \\\n",
       "0  EXO_으르렁 (Growl)_Music Video (Korean ver.)  I3dezFzsNss   \n",
       "1  EXO_으르렁 (Growl)_Music Video (Korean ver.)  I3dezFzsNss   \n",
       "2  EXO_으르렁 (Growl)_Music Video (Korean ver.)  I3dezFzsNss   \n",
       "3  EXO_으르렁 (Growl)_Music Video (Korean ver.)  I3dezFzsNss   \n",
       "4  EXO_으르렁 (Growl)_Music Video (Korean ver.)  I3dezFzsNss   \n",
       "\n",
       "                                           CommentID  \\\n",
       "0  z22xh5jg4k2qihsxa04t1aokg4s1z3dasi1t0x00bl0rbk...   \n",
       "1  z23uexlogtr2tlpuxacdp430horwegylmjduvkgwwydw03...   \n",
       "2  z230ibrzhyyqvbb5k04t1aokgimmqowmdk3y52tvq1mlbk...   \n",
       "3  z224etfowwr2wvzwm04t1aokgljq3oegusu4ltzmc5mdbk...   \n",
       "4  z22vw5fylsv2sxzaq04t1aokg4nt21krutepbqls05zrbk...   \n",
       "\n",
       "           CommentPublished            CommentUpdated  \\\n",
       "0  2017-08-02T12:30:41.000Z  2017-08-02T12:30:41.000Z   \n",
       "1  2017-08-02T12:22:35.000Z  2017-08-02T12:22:35.000Z   \n",
       "2  2017-08-02T10:03:26.000Z  2017-08-02T10:03:26.000Z   \n",
       "3  2017-08-02T09:13:33.000Z  2017-08-02T09:13:33.000Z   \n",
       "4  2017-08-01T23:04:24.000Z  2017-08-01T23:04:24.000Z   \n",
       "\n",
       "                                  CommentTextDisplay    CommentAuthorName  \\\n",
       "0                               hi love your group😍😍  Naomi Nicole Yambao   \n",
       "1                                  I reply love exo.   Ahmad Farhan Zarin   \n",
       "2                  I love exo  gussssssss 💜💜💜💜💜💜💜💜💜💜       sheridan tulio   \n",
       "3  pause the video at exactly 1:10 and you nothic...        Seraph Gaming   \n",
       "4  I have watched this way too many times for my ...     Ashleigh Sharman   \n",
       "\n",
       "                                    CommentAuthorURI CommentCanReply  \\\n",
       "0  http://www.youtube.com/channel/UCgKNWcyzGUki05...           false   \n",
       "1  http://www.youtube.com/channel/UCPgG5K1vZ11Ml-...           false   \n",
       "2  http://www.youtube.com/channel/UCBEz6cQfyxMC9G...           false   \n",
       "3  http://www.youtube.com/channel/UCfa8YIK7eVm_9g...           false   \n",
       "4  http://www.youtube.com/channel/UCCisZVYC0gOOmn...           false   \n",
       "\n",
       "   CommentTotalReplyCount CommentisPublic  CommentLikeCount  \\\n",
       "0                     0.0            True               0.0   \n",
       "1                     0.0            True               0.0   \n",
       "2                     0.0            True               0.0   \n",
       "3                     0.0            True               0.0   \n",
       "4                     0.0            True               0.0   \n",
       "\n",
       "  CommentVewerRating  IsReply  CommentPosterInfo  \n",
       "0               none      0.0                NaN  \n",
       "1               none      0.0                NaN  \n",
       "2               none      0.0                NaN  \n",
       "3               none      0.0                NaN  \n",
       "4               none      0.0                NaN  "
      ]
     },
     "execution_count": 8,
     "metadata": {},
     "output_type": "execute_result"
    }
   ],
   "source": [
    "raw_comments.head()"
   ]
  },
  {
   "cell_type": "markdown",
   "metadata": {},
   "source": [
    "You can specify how many rows you want to see, by giving the function **head()** an integer:"
   ]
  },
  {
   "cell_type": "code",
   "execution_count": 9,
   "metadata": {},
   "outputs": [
    {
     "data": {
      "text/html": [
       "<div>\n",
       "<style scoped>\n",
       "    .dataframe tbody tr th:only-of-type {\n",
       "        vertical-align: middle;\n",
       "    }\n",
       "\n",
       "    .dataframe tbody tr th {\n",
       "        vertical-align: top;\n",
       "    }\n",
       "\n",
       "    .dataframe thead th {\n",
       "        text-align: right;\n",
       "    }\n",
       "</style>\n",
       "<table border=\"1\" class=\"dataframe\">\n",
       "  <thead>\n",
       "    <tr style=\"text-align: right;\">\n",
       "      <th></th>\n",
       "      <th>Search</th>\n",
       "      <th>Title</th>\n",
       "      <th>VideoID</th>\n",
       "      <th>CommentID</th>\n",
       "      <th>CommentPublished</th>\n",
       "      <th>CommentUpdated</th>\n",
       "      <th>CommentTextDisplay</th>\n",
       "      <th>CommentAuthorName</th>\n",
       "      <th>CommentAuthorURI</th>\n",
       "      <th>CommentCanReply</th>\n",
       "      <th>CommentTotalReplyCount</th>\n",
       "      <th>CommentisPublic</th>\n",
       "      <th>CommentLikeCount</th>\n",
       "      <th>CommentVewerRating</th>\n",
       "      <th>IsReply</th>\n",
       "      <th>CommentPosterInfo</th>\n",
       "    </tr>\n",
       "  </thead>\n",
       "  <tbody>\n",
       "    <tr>\n",
       "      <th>14997</th>\n",
       "      <td>https://www.youtube.com/channel/UCEf_Bc-KVd7on...</td>\n",
       "      <td>EXO_으르렁 (Growl)_Music Video (Korean ver.)</td>\n",
       "      <td>I3dezFzsNss</td>\n",
       "      <td>z121dtjiknbmwppsm22bc3v4nme4vxq2u</td>\n",
       "      <td>2015-01-14T14:22:22.000Z</td>\n",
       "      <td>2015-01-14T14:22:22.000Z</td>\n",
       "      <td>EXO Growl is the 5th most viewed mv in SMTOWN!...</td>\n",
       "      <td>When a unicorn farted, Lay existed</td>\n",
       "      <td>http://www.youtube.com/channel/UCfQrnN-n7jnRd8...</td>\n",
       "      <td>false</td>\n",
       "      <td>0.0</td>\n",
       "      <td>True</td>\n",
       "      <td>2.0</td>\n",
       "      <td>none</td>\n",
       "      <td>0.0</td>\n",
       "      <td>NaN</td>\n",
       "    </tr>\n",
       "    <tr>\n",
       "      <th>14998</th>\n",
       "      <td>https://www.youtube.com/channel/UCEf_Bc-KVd7on...</td>\n",
       "      <td>EXO_으르렁 (Growl)_Music Video (Korean ver.)</td>\n",
       "      <td>I3dezFzsNss</td>\n",
       "      <td>z13zfvj55lzbf5yku23zdtry2qf0cf4rx04</td>\n",
       "      <td>2015-01-14T11:34:38.000Z</td>\n",
       "      <td>2015-01-14T11:34:38.000Z</td>\n",
       "      <td>And now HAPPY BIRTHDAY TO KIM JONG IN! I LOVE ...</td>\n",
       "      <td>Jongin's Sugarmommy</td>\n",
       "      <td>http://www.youtube.com/channel/UCylKfgJAUjfX3A...</td>\n",
       "      <td>false</td>\n",
       "      <td>0.0</td>\n",
       "      <td>True</td>\n",
       "      <td>2.0</td>\n",
       "      <td>none</td>\n",
       "      <td>0.0</td>\n",
       "      <td>NaN</td>\n",
       "    </tr>\n",
       "    <tr>\n",
       "      <th>14999</th>\n",
       "      <td>https://www.youtube.com/channel/UCEf_Bc-KVd7on...</td>\n",
       "      <td>EXO_으르렁 (Growl)_Music Video (Korean ver.)</td>\n",
       "      <td>I3dezFzsNss</td>\n",
       "      <td>z13fdjt54xyojeort44r9dkqugrgc5rho2s</td>\n",
       "      <td>2015-01-14T11:33:30.000Z</td>\n",
       "      <td>2015-11-14T11:33:30.000Z</td>\n",
       "      <td>Kai's hat ❤️</td>\n",
       "      <td>Maya RAra</td>\n",
       "      <td>http://www.youtube.com/channel/UCyRu0dAeRr7rgf...</td>\n",
       "      <td>false</td>\n",
       "      <td>0.0</td>\n",
       "      <td>True</td>\n",
       "      <td>0.0</td>\n",
       "      <td>none</td>\n",
       "      <td>0.0</td>\n",
       "      <td>NaN</td>\n",
       "    </tr>\n",
       "  </tbody>\n",
       "</table>\n",
       "</div>"
      ],
      "text/plain": [
       "                                                  Search  \\\n",
       "14997  https://www.youtube.com/channel/UCEf_Bc-KVd7on...   \n",
       "14998  https://www.youtube.com/channel/UCEf_Bc-KVd7on...   \n",
       "14999  https://www.youtube.com/channel/UCEf_Bc-KVd7on...   \n",
       "\n",
       "                                           Title      VideoID  \\\n",
       "14997  EXO_으르렁 (Growl)_Music Video (Korean ver.)  I3dezFzsNss   \n",
       "14998  EXO_으르렁 (Growl)_Music Video (Korean ver.)  I3dezFzsNss   \n",
       "14999  EXO_으르렁 (Growl)_Music Video (Korean ver.)  I3dezFzsNss   \n",
       "\n",
       "                                 CommentID          CommentPublished  \\\n",
       "14997    z121dtjiknbmwppsm22bc3v4nme4vxq2u  2015-01-14T14:22:22.000Z   \n",
       "14998  z13zfvj55lzbf5yku23zdtry2qf0cf4rx04  2015-01-14T11:34:38.000Z   \n",
       "14999  z13fdjt54xyojeort44r9dkqugrgc5rho2s  2015-01-14T11:33:30.000Z   \n",
       "\n",
       "                 CommentUpdated  \\\n",
       "14997  2015-01-14T14:22:22.000Z   \n",
       "14998  2015-01-14T11:34:38.000Z   \n",
       "14999  2015-11-14T11:33:30.000Z   \n",
       "\n",
       "                                      CommentTextDisplay  \\\n",
       "14997  EXO Growl is the 5th most viewed mv in SMTOWN!...   \n",
       "14998  And now HAPPY BIRTHDAY TO KIM JONG IN! I LOVE ...   \n",
       "14999                                       Kai's hat ❤️   \n",
       "\n",
       "                        CommentAuthorName  \\\n",
       "14997  When a unicorn farted, Lay existed   \n",
       "14998                 Jongin's Sugarmommy   \n",
       "14999                           Maya RAra   \n",
       "\n",
       "                                        CommentAuthorURI CommentCanReply  \\\n",
       "14997  http://www.youtube.com/channel/UCfQrnN-n7jnRd8...           false   \n",
       "14998  http://www.youtube.com/channel/UCylKfgJAUjfX3A...           false   \n",
       "14999  http://www.youtube.com/channel/UCyRu0dAeRr7rgf...           false   \n",
       "\n",
       "       CommentTotalReplyCount CommentisPublic  CommentLikeCount  \\\n",
       "14997                     0.0            True               2.0   \n",
       "14998                     0.0            True               2.0   \n",
       "14999                     0.0            True               0.0   \n",
       "\n",
       "      CommentVewerRating  IsReply  CommentPosterInfo  \n",
       "14997               none      0.0                NaN  \n",
       "14998               none      0.0                NaN  \n",
       "14999               none      0.0                NaN  "
      ]
     },
     "execution_count": 9,
     "metadata": {},
     "output_type": "execute_result"
    }
   ],
   "source": [
    "raw_comments.tail(3)"
   ]
  },
  {
   "cell_type": "markdown",
   "metadata": {},
   "source": [
    "The DataFrame is displayed as a table, with an **index** (_0,1,2,..._) labelling every row, and a **key** (_Search, Title, VideoID, ..._) labelling every column. You can scroll the DataFrame horizontally to see all other columns.\n",
    "\n",
    "Since not all columns are interesting to us, we can also **filter** the DataFrame, to select only the relevant variables.\n",
    "\n",
    "We do that by writing ```raw_comments[x]```, where ```x``` is a list of the keys we want to keep.\n",
    "\n",
    "Let's create a new variable called ```comments```, with the filtered DataFrame."
   ]
  },
  {
   "cell_type": "code",
   "execution_count": 13,
   "metadata": {},
   "outputs": [
    {
     "data": {
      "text/html": [
       "<div>\n",
       "<style scoped>\n",
       "    .dataframe tbody tr th:only-of-type {\n",
       "        vertical-align: middle;\n",
       "    }\n",
       "\n",
       "    .dataframe tbody tr th {\n",
       "        vertical-align: top;\n",
       "    }\n",
       "\n",
       "    .dataframe thead th {\n",
       "        text-align: right;\n",
       "    }\n",
       "</style>\n",
       "<table border=\"1\" class=\"dataframe\">\n",
       "  <thead>\n",
       "    <tr style=\"text-align: right;\">\n",
       "      <th></th>\n",
       "      <th>CommentPublished</th>\n",
       "      <th>CommentTextDisplay</th>\n",
       "      <th>CommentAuthorName</th>\n",
       "      <th>CommentLikeCount</th>\n",
       "      <th>CommentTotalReplyCount</th>\n",
       "      <th>Title</th>\n",
       "    </tr>\n",
       "  </thead>\n",
       "  <tbody>\n",
       "    <tr>\n",
       "      <th>0</th>\n",
       "      <td>2017-08-02T12:30:41.000Z</td>\n",
       "      <td>hi love your group😍😍</td>\n",
       "      <td>Naomi Nicole Yambao</td>\n",
       "      <td>0.0</td>\n",
       "      <td>0.0</td>\n",
       "      <td>EXO_으르렁 (Growl)_Music Video (Korean ver.)</td>\n",
       "    </tr>\n",
       "    <tr>\n",
       "      <th>1</th>\n",
       "      <td>2017-08-02T12:22:35.000Z</td>\n",
       "      <td>I reply love exo.</td>\n",
       "      <td>Ahmad Farhan Zarin</td>\n",
       "      <td>0.0</td>\n",
       "      <td>0.0</td>\n",
       "      <td>EXO_으르렁 (Growl)_Music Video (Korean ver.)</td>\n",
       "    </tr>\n",
       "    <tr>\n",
       "      <th>2</th>\n",
       "      <td>2017-08-02T10:03:26.000Z</td>\n",
       "      <td>I love exo  gussssssss 💜💜💜💜💜💜💜💜💜💜</td>\n",
       "      <td>sheridan tulio</td>\n",
       "      <td>0.0</td>\n",
       "      <td>0.0</td>\n",
       "      <td>EXO_으르렁 (Growl)_Music Video (Korean ver.)</td>\n",
       "    </tr>\n",
       "    <tr>\n",
       "      <th>3</th>\n",
       "      <td>2017-08-02T09:13:33.000Z</td>\n",
       "      <td>pause the video at exactly 1:10 and you nothic...</td>\n",
       "      <td>Seraph Gaming</td>\n",
       "      <td>0.0</td>\n",
       "      <td>0.0</td>\n",
       "      <td>EXO_으르렁 (Growl)_Music Video (Korean ver.)</td>\n",
       "    </tr>\n",
       "    <tr>\n",
       "      <th>4</th>\n",
       "      <td>2017-08-01T23:04:24.000Z</td>\n",
       "      <td>I have watched this way too many times for my ...</td>\n",
       "      <td>Ashleigh Sharman</td>\n",
       "      <td>0.0</td>\n",
       "      <td>0.0</td>\n",
       "      <td>EXO_으르렁 (Growl)_Music Video (Korean ver.)</td>\n",
       "    </tr>\n",
       "  </tbody>\n",
       "</table>\n",
       "</div>"
      ],
      "text/plain": [
       "           CommentPublished  \\\n",
       "0  2017-08-02T12:30:41.000Z   \n",
       "1  2017-08-02T12:22:35.000Z   \n",
       "2  2017-08-02T10:03:26.000Z   \n",
       "3  2017-08-02T09:13:33.000Z   \n",
       "4  2017-08-01T23:04:24.000Z   \n",
       "\n",
       "                                  CommentTextDisplay    CommentAuthorName  \\\n",
       "0                               hi love your group😍😍  Naomi Nicole Yambao   \n",
       "1                                  I reply love exo.   Ahmad Farhan Zarin   \n",
       "2                  I love exo  gussssssss 💜💜💜💜💜💜💜💜💜💜       sheridan tulio   \n",
       "3  pause the video at exactly 1:10 and you nothic...        Seraph Gaming   \n",
       "4  I have watched this way too many times for my ...     Ashleigh Sharman   \n",
       "\n",
       "   CommentLikeCount  CommentTotalReplyCount  \\\n",
       "0               0.0                     0.0   \n",
       "1               0.0                     0.0   \n",
       "2               0.0                     0.0   \n",
       "3               0.0                     0.0   \n",
       "4               0.0                     0.0   \n",
       "\n",
       "                                       Title  \n",
       "0  EXO_으르렁 (Growl)_Music Video (Korean ver.)  \n",
       "1  EXO_으르렁 (Growl)_Music Video (Korean ver.)  \n",
       "2  EXO_으르렁 (Growl)_Music Video (Korean ver.)  \n",
       "3  EXO_으르렁 (Growl)_Music Video (Korean ver.)  \n",
       "4  EXO_으르렁 (Growl)_Music Video (Korean ver.)  "
      ]
     },
     "execution_count": 13,
     "metadata": {},
     "output_type": "execute_result"
    }
   ],
   "source": [
    "# also note that I split the command in two lines, to make it easier to read:\n",
    "\n",
    "to_filter = ['CommentPublished','CommentTextDisplay','CommentAuthorName',\n",
    "             'CommentLikeCount','CommentTotalReplyCount','Title']\n",
    "\n",
    "comments = raw_comments.filter(items=to_filter)\n",
    "\n",
    "# Display first rows of the new dataframe\n",
    "comments.head()"
   ]
  },
  {
   "cell_type": "markdown",
   "metadata": {},
   "source": [
    "We will also remove any rows containing null (_NaN_, or _not a number_) results.\n",
    "\n",
    "The command ```comments.dropna()``` returns a dataframe identical to ```comments```, but removing any _rows_ containing _NaN_.\n",
    "\n",
    "So let's replace our ```comments``` dataframe by ```comments``` without any null values."
   ]
  },
  {
   "cell_type": "code",
   "execution_count": 14,
   "metadata": {},
   "outputs": [],
   "source": [
    "comments = comments.dropna()"
   ]
  },
  {
   "cell_type": "markdown",
   "metadata": {},
   "source": [
    "You can remove columns with ```del comments['key']```, replacing ```'key'``` by the name of the column you want to remove."
   ]
  },
  {
   "cell_type": "code",
   "execution_count": 15,
   "metadata": {},
   "outputs": [
    {
     "data": {
      "text/html": [
       "<div>\n",
       "<style scoped>\n",
       "    .dataframe tbody tr th:only-of-type {\n",
       "        vertical-align: middle;\n",
       "    }\n",
       "\n",
       "    .dataframe tbody tr th {\n",
       "        vertical-align: top;\n",
       "    }\n",
       "\n",
       "    .dataframe thead th {\n",
       "        text-align: right;\n",
       "    }\n",
       "</style>\n",
       "<table border=\"1\" class=\"dataframe\">\n",
       "  <thead>\n",
       "    <tr style=\"text-align: right;\">\n",
       "      <th></th>\n",
       "      <th>CommentPublished</th>\n",
       "      <th>CommentTextDisplay</th>\n",
       "      <th>CommentAuthorName</th>\n",
       "      <th>CommentLikeCount</th>\n",
       "      <th>CommentTotalReplyCount</th>\n",
       "    </tr>\n",
       "  </thead>\n",
       "  <tbody>\n",
       "    <tr>\n",
       "      <th>0</th>\n",
       "      <td>2017-08-02T12:30:41.000Z</td>\n",
       "      <td>hi love your group😍😍</td>\n",
       "      <td>Naomi Nicole Yambao</td>\n",
       "      <td>0.0</td>\n",
       "      <td>0.0</td>\n",
       "    </tr>\n",
       "    <tr>\n",
       "      <th>1</th>\n",
       "      <td>2017-08-02T12:22:35.000Z</td>\n",
       "      <td>I reply love exo.</td>\n",
       "      <td>Ahmad Farhan Zarin</td>\n",
       "      <td>0.0</td>\n",
       "      <td>0.0</td>\n",
       "    </tr>\n",
       "    <tr>\n",
       "      <th>2</th>\n",
       "      <td>2017-08-02T10:03:26.000Z</td>\n",
       "      <td>I love exo  gussssssss 💜💜💜💜💜💜💜💜💜💜</td>\n",
       "      <td>sheridan tulio</td>\n",
       "      <td>0.0</td>\n",
       "      <td>0.0</td>\n",
       "    </tr>\n",
       "    <tr>\n",
       "      <th>3</th>\n",
       "      <td>2017-08-02T09:13:33.000Z</td>\n",
       "      <td>pause the video at exactly 1:10 and you nothic...</td>\n",
       "      <td>Seraph Gaming</td>\n",
       "      <td>0.0</td>\n",
       "      <td>0.0</td>\n",
       "    </tr>\n",
       "    <tr>\n",
       "      <th>4</th>\n",
       "      <td>2017-08-01T23:04:24.000Z</td>\n",
       "      <td>I have watched this way too many times for my ...</td>\n",
       "      <td>Ashleigh Sharman</td>\n",
       "      <td>0.0</td>\n",
       "      <td>0.0</td>\n",
       "    </tr>\n",
       "  </tbody>\n",
       "</table>\n",
       "</div>"
      ],
      "text/plain": [
       "           CommentPublished  \\\n",
       "0  2017-08-02T12:30:41.000Z   \n",
       "1  2017-08-02T12:22:35.000Z   \n",
       "2  2017-08-02T10:03:26.000Z   \n",
       "3  2017-08-02T09:13:33.000Z   \n",
       "4  2017-08-01T23:04:24.000Z   \n",
       "\n",
       "                                  CommentTextDisplay    CommentAuthorName  \\\n",
       "0                               hi love your group😍😍  Naomi Nicole Yambao   \n",
       "1                                  I reply love exo.   Ahmad Farhan Zarin   \n",
       "2                  I love exo  gussssssss 💜💜💜💜💜💜💜💜💜💜       sheridan tulio   \n",
       "3  pause the video at exactly 1:10 and you nothic...        Seraph Gaming   \n",
       "4  I have watched this way too many times for my ...     Ashleigh Sharman   \n",
       "\n",
       "   CommentLikeCount  CommentTotalReplyCount  \n",
       "0               0.0                     0.0  \n",
       "1               0.0                     0.0  \n",
       "2               0.0                     0.0  \n",
       "3               0.0                     0.0  \n",
       "4               0.0                     0.0  "
      ]
     },
     "execution_count": 15,
     "metadata": {},
     "output_type": "execute_result"
    }
   ],
   "source": [
    "# Remove column 'Title'\n",
    "del comments['Title']\n",
    "\n",
    "# Display first rows of the dataframe\n",
    "comments.head()"
   ]
  },
  {
   "cell_type": "code",
   "execution_count": 16,
   "metadata": {},
   "outputs": [
    {
     "data": {
      "text/html": [
       "<div>\n",
       "<style scoped>\n",
       "    .dataframe tbody tr th:only-of-type {\n",
       "        vertical-align: middle;\n",
       "    }\n",
       "\n",
       "    .dataframe tbody tr th {\n",
       "        vertical-align: top;\n",
       "    }\n",
       "\n",
       "    .dataframe thead th {\n",
       "        text-align: right;\n",
       "    }\n",
       "</style>\n",
       "<table border=\"1\" class=\"dataframe\">\n",
       "  <thead>\n",
       "    <tr style=\"text-align: right;\">\n",
       "      <th></th>\n",
       "      <th>CommentPublished</th>\n",
       "      <th>CommentLikeCount</th>\n",
       "    </tr>\n",
       "  </thead>\n",
       "  <tbody>\n",
       "    <tr>\n",
       "      <th>0</th>\n",
       "      <td>2017-08-02T12:30:41.000Z</td>\n",
       "      <td>0.0</td>\n",
       "    </tr>\n",
       "    <tr>\n",
       "      <th>1</th>\n",
       "      <td>2017-08-02T12:22:35.000Z</td>\n",
       "      <td>0.0</td>\n",
       "    </tr>\n",
       "    <tr>\n",
       "      <th>2</th>\n",
       "      <td>2017-08-02T10:03:26.000Z</td>\n",
       "      <td>0.0</td>\n",
       "    </tr>\n",
       "    <tr>\n",
       "      <th>3</th>\n",
       "      <td>2017-08-02T09:13:33.000Z</td>\n",
       "      <td>0.0</td>\n",
       "    </tr>\n",
       "    <tr>\n",
       "      <th>4</th>\n",
       "      <td>2017-08-01T23:04:24.000Z</td>\n",
       "      <td>0.0</td>\n",
       "    </tr>\n",
       "  </tbody>\n",
       "</table>\n",
       "</div>"
      ],
      "text/plain": [
       "           CommentPublished  CommentLikeCount\n",
       "0  2017-08-02T12:30:41.000Z               0.0\n",
       "1  2017-08-02T12:22:35.000Z               0.0\n",
       "2  2017-08-02T10:03:26.000Z               0.0\n",
       "3  2017-08-02T09:13:33.000Z               0.0\n",
       "4  2017-08-01T23:04:24.000Z               0.0"
      ]
     },
     "execution_count": 16,
     "metadata": {},
     "output_type": "execute_result"
    }
   ],
   "source": [
    "comments[ ['CommentPublished','CommentLikeCount'] ].head()"
   ]
  },
  {
   "cell_type": "markdown",
   "metadata": {},
   "source": [
    "### Sorting a dataframe according to one of its columns.\n",
    "\n",
    "Given a dataframe ```df```, the command ```df.sort_values('column_name_here')``` produce a dataframe with the same rows as ```df```, but ordered according to the column specified by ```'column_name_here'```. Here's an example:"
   ]
  },
  {
   "cell_type": "code",
   "execution_count": 17,
   "metadata": {
    "scrolled": false
   },
   "outputs": [
    {
     "data": {
      "text/html": [
       "<div>\n",
       "<style scoped>\n",
       "    .dataframe tbody tr th:only-of-type {\n",
       "        vertical-align: middle;\n",
       "    }\n",
       "\n",
       "    .dataframe tbody tr th {\n",
       "        vertical-align: top;\n",
       "    }\n",
       "\n",
       "    .dataframe thead th {\n",
       "        text-align: right;\n",
       "    }\n",
       "</style>\n",
       "<table border=\"1\" class=\"dataframe\">\n",
       "  <thead>\n",
       "    <tr style=\"text-align: right;\">\n",
       "      <th></th>\n",
       "      <th>CommentPublished</th>\n",
       "      <th>CommentTextDisplay</th>\n",
       "      <th>CommentAuthorName</th>\n",
       "      <th>CommentLikeCount</th>\n",
       "      <th>CommentTotalReplyCount</th>\n",
       "    </tr>\n",
       "  </thead>\n",
       "  <tbody>\n",
       "    <tr>\n",
       "      <th>0</th>\n",
       "      <td>2017-08-02T12:30:41.000Z</td>\n",
       "      <td>hi love your group😍😍</td>\n",
       "      <td>Naomi Nicole Yambao</td>\n",
       "      <td>0.0</td>\n",
       "      <td>0.0</td>\n",
       "    </tr>\n",
       "    <tr>\n",
       "      <th>8289</th>\n",
       "      <td>2016-05-06T02:11:34.000Z</td>\n",
       "      <td>Ahhhhhhh!!! Overdose made it to 100m, let's ge...</td>\n",
       "      <td>Jimin Kang</td>\n",
       "      <td>0.0</td>\n",
       "      <td>0.0</td>\n",
       "    </tr>\n",
       "    <tr>\n",
       "      <th>8290</th>\n",
       "      <td>2016-05-06T02:04:27.000Z</td>\n",
       "      <td>Road to 100M !!!!!!  #EXO-L fighting</td>\n",
       "      <td>FahFy BIBI Ch</td>\n",
       "      <td>0.0</td>\n",
       "      <td>0.0</td>\n",
       "    </tr>\n",
       "    <tr>\n",
       "      <th>8291</th>\n",
       "      <td>2016-05-06T02:00:15.000Z</td>\n",
       "      <td>Let's reach this mv to 100 M also EXO-L's!!! \\...</td>\n",
       "      <td>tale janica</td>\n",
       "      <td>0.0</td>\n",
       "      <td>0.0</td>\n",
       "    </tr>\n",
       "    <tr>\n",
       "      <th>8293</th>\n",
       "      <td>2016-05-06T01:58:52.000Z</td>\n",
       "      <td>Fighting for 100million views 👏🏻</td>\n",
       "      <td>Ghina Qothrunnada</td>\n",
       "      <td>0.0</td>\n",
       "      <td>0.0</td>\n",
       "    </tr>\n",
       "  </tbody>\n",
       "</table>\n",
       "</div>"
      ],
      "text/plain": [
       "              CommentPublished  \\\n",
       "0     2017-08-02T12:30:41.000Z   \n",
       "8289  2016-05-06T02:11:34.000Z   \n",
       "8290  2016-05-06T02:04:27.000Z   \n",
       "8291  2016-05-06T02:00:15.000Z   \n",
       "8293  2016-05-06T01:58:52.000Z   \n",
       "\n",
       "                                     CommentTextDisplay    CommentAuthorName  \\\n",
       "0                                  hi love your group😍😍  Naomi Nicole Yambao   \n",
       "8289  Ahhhhhhh!!! Overdose made it to 100m, let's ge...           Jimin Kang   \n",
       "8290               Road to 100M !!!!!!  #EXO-L fighting        FahFy BIBI Ch   \n",
       "8291  Let's reach this mv to 100 M also EXO-L's!!! \\...          tale janica   \n",
       "8293                   Fighting for 100million views 👏🏻    Ghina Qothrunnada   \n",
       "\n",
       "      CommentLikeCount  CommentTotalReplyCount  \n",
       "0                  0.0                     0.0  \n",
       "8289               0.0                     0.0  \n",
       "8290               0.0                     0.0  \n",
       "8291               0.0                     0.0  \n",
       "8293               0.0                     0.0  "
      ]
     },
     "execution_count": 17,
     "metadata": {},
     "output_type": "execute_result"
    }
   ],
   "source": [
    "sorted_dataframe = comments.sort_values('CommentLikeCount')\n",
    "\n",
    "sorted_dataframe.head()"
   ]
  },
  {
   "cell_type": "markdown",
   "metadata": {},
   "source": [
    "Note that the dataframe above does not seem to be sorted. This is because it is sorted in _ascending_ order, from the smallest value (```CommentLikeCount == 0```, in this case) to the largest value.\n",
    "\n",
    "Instead, we can sort in _descending_ order, starting from the comment with the largest number of likes:"
   ]
  },
  {
   "cell_type": "code",
   "execution_count": 18,
   "metadata": {},
   "outputs": [
    {
     "data": {
      "text/html": [
       "<div>\n",
       "<style scoped>\n",
       "    .dataframe tbody tr th:only-of-type {\n",
       "        vertical-align: middle;\n",
       "    }\n",
       "\n",
       "    .dataframe tbody tr th {\n",
       "        vertical-align: top;\n",
       "    }\n",
       "\n",
       "    .dataframe thead th {\n",
       "        text-align: right;\n",
       "    }\n",
       "</style>\n",
       "<table border=\"1\" class=\"dataframe\">\n",
       "  <thead>\n",
       "    <tr style=\"text-align: right;\">\n",
       "      <th></th>\n",
       "      <th>CommentPublished</th>\n",
       "      <th>CommentTextDisplay</th>\n",
       "      <th>CommentAuthorName</th>\n",
       "      <th>CommentLikeCount</th>\n",
       "      <th>CommentTotalReplyCount</th>\n",
       "    </tr>\n",
       "  </thead>\n",
       "  <tbody>\n",
       "    <tr>\n",
       "      <th>9463</th>\n",
       "      <td>2016-03-21T07:23:18.000Z</td>\n",
       "      <td>I still remember the day I first watched this ...</td>\n",
       "      <td>realistic dreamr</td>\n",
       "      <td>3821.0</td>\n",
       "      <td>85.0</td>\n",
       "    </tr>\n",
       "    <tr>\n",
       "      <th>3793</th>\n",
       "      <td>2017-01-05T13:17:41.000Z</td>\n",
       "      <td>Who's watching this in 2017?</td>\n",
       "      <td>Kai</td>\n",
       "      <td>2415.0</td>\n",
       "      <td>221.0</td>\n",
       "    </tr>\n",
       "    <tr>\n",
       "      <th>10207</th>\n",
       "      <td>2016-02-02T08:35:26.000Z</td>\n",
       "      <td>2012- i found you.  2013- i fell in love with ...</td>\n",
       "      <td>claire oh</td>\n",
       "      <td>2330.0</td>\n",
       "      <td>131.0</td>\n",
       "    </tr>\n",
       "    <tr>\n",
       "      <th>4875</th>\n",
       "      <td>2016-10-20T10:12:13.000Z</td>\n",
       "      <td>The day came today where I finally learnt all ...</td>\n",
       "      <td>vin dm</td>\n",
       "      <td>2286.0</td>\n",
       "      <td>66.0</td>\n",
       "    </tr>\n",
       "    <tr>\n",
       "      <th>9299</th>\n",
       "      <td>2016-03-26T20:37:50.000Z</td>\n",
       "      <td>*aggressively stares at my bias*</td>\n",
       "      <td>Alix Malone</td>\n",
       "      <td>2108.0</td>\n",
       "      <td>55.0</td>\n",
       "    </tr>\n",
       "  </tbody>\n",
       "</table>\n",
       "</div>"
      ],
      "text/plain": [
       "               CommentPublished  \\\n",
       "9463   2016-03-21T07:23:18.000Z   \n",
       "3793   2017-01-05T13:17:41.000Z   \n",
       "10207  2016-02-02T08:35:26.000Z   \n",
       "4875   2016-10-20T10:12:13.000Z   \n",
       "9299   2016-03-26T20:37:50.000Z   \n",
       "\n",
       "                                      CommentTextDisplay CommentAuthorName  \\\n",
       "9463   I still remember the day I first watched this ...  realistic dreamr   \n",
       "3793                        Who's watching this in 2017?               Kai   \n",
       "10207  2012- i found you.  2013- i fell in love with ...         claire oh   \n",
       "4875   The day came today where I finally learnt all ...            vin dm   \n",
       "9299                    *aggressively stares at my bias*       Alix Malone   \n",
       "\n",
       "       CommentLikeCount  CommentTotalReplyCount  \n",
       "9463             3821.0                    85.0  \n",
       "3793             2415.0                   221.0  \n",
       "10207            2330.0                   131.0  \n",
       "4875             2286.0                    66.0  \n",
       "9299             2108.0                    55.0  "
      ]
     },
     "execution_count": 18,
     "metadata": {},
     "output_type": "execute_result"
    }
   ],
   "source": [
    "sorted_dataframe = comments.sort_values('CommentLikeCount', ascending=False)\n",
    "\n",
    "sorted_dataframe.head()"
   ]
  },
  {
   "cell_type": "markdown",
   "metadata": {},
   "source": [
    "### You can also concatenate both commands, as below:\n",
    "Concatenating commands is a very useful trick if you don't want to create a new dataframe just for that."
   ]
  },
  {
   "cell_type": "code",
   "execution_count": 19,
   "metadata": {},
   "outputs": [
    {
     "data": {
      "text/html": [
       "<div>\n",
       "<style scoped>\n",
       "    .dataframe tbody tr th:only-of-type {\n",
       "        vertical-align: middle;\n",
       "    }\n",
       "\n",
       "    .dataframe tbody tr th {\n",
       "        vertical-align: top;\n",
       "    }\n",
       "\n",
       "    .dataframe thead th {\n",
       "        text-align: right;\n",
       "    }\n",
       "</style>\n",
       "<table border=\"1\" class=\"dataframe\">\n",
       "  <thead>\n",
       "    <tr style=\"text-align: right;\">\n",
       "      <th></th>\n",
       "      <th>CommentPublished</th>\n",
       "      <th>CommentTextDisplay</th>\n",
       "      <th>CommentAuthorName</th>\n",
       "      <th>CommentLikeCount</th>\n",
       "      <th>CommentTotalReplyCount</th>\n",
       "    </tr>\n",
       "  </thead>\n",
       "  <tbody>\n",
       "    <tr>\n",
       "      <th>9463</th>\n",
       "      <td>2016-03-21T07:23:18.000Z</td>\n",
       "      <td>I still remember the day I first watched this ...</td>\n",
       "      <td>realistic dreamr</td>\n",
       "      <td>3821.0</td>\n",
       "      <td>85.0</td>\n",
       "    </tr>\n",
       "    <tr>\n",
       "      <th>3793</th>\n",
       "      <td>2017-01-05T13:17:41.000Z</td>\n",
       "      <td>Who's watching this in 2017?</td>\n",
       "      <td>Kai</td>\n",
       "      <td>2415.0</td>\n",
       "      <td>221.0</td>\n",
       "    </tr>\n",
       "    <tr>\n",
       "      <th>10207</th>\n",
       "      <td>2016-02-02T08:35:26.000Z</td>\n",
       "      <td>2012- i found you.  2013- i fell in love with ...</td>\n",
       "      <td>claire oh</td>\n",
       "      <td>2330.0</td>\n",
       "      <td>131.0</td>\n",
       "    </tr>\n",
       "    <tr>\n",
       "      <th>4875</th>\n",
       "      <td>2016-10-20T10:12:13.000Z</td>\n",
       "      <td>The day came today where I finally learnt all ...</td>\n",
       "      <td>vin dm</td>\n",
       "      <td>2286.0</td>\n",
       "      <td>66.0</td>\n",
       "    </tr>\n",
       "    <tr>\n",
       "      <th>9299</th>\n",
       "      <td>2016-03-26T20:37:50.000Z</td>\n",
       "      <td>*aggressively stares at my bias*</td>\n",
       "      <td>Alix Malone</td>\n",
       "      <td>2108.0</td>\n",
       "      <td>55.0</td>\n",
       "    </tr>\n",
       "  </tbody>\n",
       "</table>\n",
       "</div>"
      ],
      "text/plain": [
       "               CommentPublished  \\\n",
       "9463   2016-03-21T07:23:18.000Z   \n",
       "3793   2017-01-05T13:17:41.000Z   \n",
       "10207  2016-02-02T08:35:26.000Z   \n",
       "4875   2016-10-20T10:12:13.000Z   \n",
       "9299   2016-03-26T20:37:50.000Z   \n",
       "\n",
       "                                      CommentTextDisplay CommentAuthorName  \\\n",
       "9463   I still remember the day I first watched this ...  realistic dreamr   \n",
       "3793                        Who's watching this in 2017?               Kai   \n",
       "10207  2012- i found you.  2013- i fell in love with ...         claire oh   \n",
       "4875   The day came today where I finally learnt all ...            vin dm   \n",
       "9299                    *aggressively stares at my bias*       Alix Malone   \n",
       "\n",
       "       CommentLikeCount  CommentTotalReplyCount  \n",
       "9463             3821.0                    85.0  \n",
       "3793             2415.0                   221.0  \n",
       "10207            2330.0                   131.0  \n",
       "4875             2286.0                    66.0  \n",
       "9299             2108.0                    55.0  "
      ]
     },
     "execution_count": 19,
     "metadata": {},
     "output_type": "execute_result"
    }
   ],
   "source": [
    "comments.sort_values('CommentLikeCount', ascending=False).head()"
   ]
  },
  {
   "cell_type": "markdown",
   "metadata": {},
   "source": [
    "### Accessing the value of individual rows.\n",
    "In the cell below, we look at the author of each comment, which is in the ```'CommentAuthorName'``` row:"
   ]
  },
  {
   "cell_type": "code",
   "execution_count": 20,
   "metadata": {
    "scrolled": true
   },
   "outputs": [
    {
     "name": "stdout",
     "output_type": "stream",
     "text": [
      "0                                     hi love your group😍😍\n",
      "1                                        I reply love exo.\n",
      "2                        I love exo  gussssssss 💜💜💜💜💜💜💜💜💜💜\n",
      "3        pause the video at exactly 1:10 and you nothic...\n",
      "4        I have watched this way too many times for my ...\n",
      "5        watching this video in 2017. i hope kokobop ge...\n",
      "6                      when  they were still complete  : (\n",
      "7        3:01 though😂😂 chanyeol still memorize when he ...\n",
      "8                                      1:10 who is there ?\n",
      "9                  Still love that save by kai at 2:16 xdd\n",
      "10                 1:12 Stay on 1:12 and look to the back!\n",
      "11       Its hard to watch these videos man I swear I m...\n",
      "12             I wish that had the lyrics to it in English\n",
      "13         august 2017 and im still here watching this ㅋㅋㅋ\n",
      "14       the best mv to be watched whenever i miss ot12...\n",
      "15       I don't know how I ever thought they look simi...\n",
      "16       Didn't anyone notice the silhouette on D.O.'s ...\n",
      "17       The one thing I will always ask is why is Suho...\n",
      "18                            they are cool，they are King！\n",
      "19       Did anyone else notice kai drop his hat at 2:1...\n",
      "20                 miss this era, the one bring me to #EXO\n",
      "21       I know that this ain't important but this vide...\n",
      "22       dear exo-l pls vote for exo on Soribada lets m...\n",
      "23       new here..  i knew exo but its the first time ...\n",
      "24       May I join this fandom? This is the first Kpop...\n",
      "25                         3 years today 💜 I miss this era\n",
      "26       everyone misses this era... just admit it, eve...\n",
      "27              Enyone notice the ghost in the back ground\n",
      "28       Exo is an extremely talented band.  Leave the ...\n",
      "29       starting at the 3:10 is my favorite part when ...\n",
      "                               ...                        \n",
      "14966               D.O. is by far one of the best singers\n",
      "14967    F*uck the new CEO! He ruined EXO! Go to HELL! ...\n",
      "14968            Who sings starting at 2:50:?  Is it Chen?\n",
      "14971                                exo is the best band \n",
      "14972    Woooohhh :) the best dance step of kpop :) unt...\n",
      "14973                                 love love sehun baby\n",
      "14974                  2015 and still watching this mv... \n",
      "14975    I'm American, but I listen to K-pop because Am...\n",
      "14976                                  I love this video..\n",
      "14977                             I really love this !!!! \n",
      "14978    this is so catchy!    EDIT: ITS BEEN 3 HOURS I...\n",
      "14979                    Still jamming to this in 2015! :D\n",
      "14980    Listening to all EXO songs before #EXO2015Come...\n",
      "14981    Fu*k you sm.. I really loved kris and luhan fr...\n",
      "14982    OK! Exo_K fans now that you have watched this ...\n",
      "14983              @ 2:22 love what kai did over there xDD\n",
      "14984    annnnd this is where i fell in love with these...\n",
      "14985    I really...really love it!!!!! It's really gre...\n",
      "14986                  never get bored listen this song ☺☺\n",
      "14987           i can never get tired of this song \\u003c3\n",
      "14988    In that MV it has rumour right? Theres a ghost...\n",
      "14989                  The one in the black hat. ;) whew! \n",
      "14991    i wonder every time i watched them dance it ma...\n",
      "14993    Hello! Remember that EXO is having a comeback ...\n",
      "14994            I swear Luhan is the cutest little thing.\n",
      "14995             @ 2:16 Kai dropped and picked up his hat\n",
      "14996    HAPPY BIRTHDAY TO OUR SWEET AS SUGAR KIM JONGI...\n",
      "14997    EXO Growl is the 5th most viewed mv in SMTOWN!...\n",
      "14998    And now HAPPY BIRTHDAY TO KIM JONG IN! I LOVE ...\n",
      "14999                                         Kai's hat ❤️\n",
      "Name: CommentTextDisplay, Length: 11770, dtype: object\n"
     ]
    }
   ],
   "source": [
    "print( comments['CommentTextDisplay'] )"
   ]
  },
  {
   "cell_type": "markdown",
   "metadata": {},
   "source": [
    "Note that ```comments['CommentAuthorName']``` is not displayed as a dataframe, like the variable ```comments``` was.\n",
    "\n",
    "This is because ```comments['CommentAuthorName']``` is a **series**, which is much like an array of values attached to indices, which in this case go from 0 to 14999. We won't dwell much on series, but they are useful for a few things. One of the things that makes **series** different from ordinary lists is which functions you can call on them.\n",
    "\n",
    "For instance, if you want to count how many times each ```CommentAuthorName``` appears in this series, you can use ```value_counts()```:"
   ]
  },
  {
   "cell_type": "code",
   "execution_count": 20,
   "metadata": {
    "scrolled": true
   },
   "outputs": [
    {
     "data": {
      "text/plain": [
       "watch EXO's KOKOBOP MV                       33\n",
       "jeng Gloria                                  28\n",
       "Kokobop ph                                   20\n",
       "Kings Are Coming                             19\n",
       "Kim Jong Kai                                 18\n",
       "Elena Skylar                                 13\n",
       "Chicky Lee                                   13\n",
       "exo love                                     12\n",
       "ExoYeolBaek                                  12\n",
       "Salimatou Balde                              12\n",
       "Exo-l & a Jongdae Stan                       12\n",
       "DRdeliciousMA                                10\n",
       "Alina Salvator                               10\n",
       "Euly Cordero                                  9\n",
       "Ana Alfonso                                   9\n",
       "Happiness Delight                             9\n",
       "Park Chanyeol                                 9\n",
       "Silverlighteu                                 8\n",
       "D.O.rothy Sooco                               8\n",
       "Sehun Malfoy                                  8\n",
       "Nicole T.                                     8\n",
       "EVILL BUNNY                                   8\n",
       "Living Meme                                   7\n",
       "Nina wherever                                 7\n",
       "NI LI                                         7\n",
       "Kim Nina                                      7\n",
       "chanyeolseemysoul (i AM multi-fandom)         7\n",
       "I literally can't pick a bias in Exo HELP     7\n",
       "Oh Sehun                                      7\n",
       "Jaira Alcala                                  7\n",
       "                                             ..\n",
       "Vaishnavi _T                                  1\n",
       "Janelle Pascual                               1\n",
       "Rifky Azhar                                   1\n",
       "El                                            1\n",
       "BreathingMars                                 1\n",
       "鼓 腹                                           1\n",
       "Exosnsdrv 8                                   1\n",
       "boop                                          1\n",
       "Jezette De Leon                               1\n",
       "Arisha GamerXD                                1\n",
       "Luh Summer S2                                 1\n",
       "papphang                                      1\n",
       "Hajid Aziz                                    1\n",
       "K4TOS Channel                                 1\n",
       "Hardevi Khurana                               1\n",
       "Exoxo                                         1\n",
       "Hey! It's Me                                  1\n",
       "nantanacha wannpob                            1\n",
       "Sita Sempurna                                 1\n",
       "Tee Jay                                       1\n",
       "exo 10                                        1\n",
       "Anna Byul                                     1\n",
       "Cedric Reyes                                  1\n",
       "Luhanie Yo                                    1\n",
       "Kathy Nguyen                                  1\n",
       "Aieljhane Gumapos                             1\n",
       "Ly Huỳnh                                      1\n",
       "July Emerson                                  1\n",
       "Megu X                                        1\n",
       "ItsEm                                         1\n",
       "Name: CommentAuthorName, Length: 10024, dtype: int64"
      ]
     },
     "execution_count": 20,
     "metadata": {},
     "output_type": "execute_result"
    }
   ],
   "source": [
    "comments['CommentAuthorName'].value_counts()"
   ]
  },
  {
   "cell_type": "markdown",
   "metadata": {},
   "source": [
    "You can add columns by assigning ```comments['key']``` to a list of values, replacing ```'key'``` by the name of the column you want to create."
   ]
  },
  {
   "cell_type": "code",
   "execution_count": 40,
   "metadata": {},
   "outputs": [
    {
     "data": {
      "text/html": [
       "<div>\n",
       "<style scoped>\n",
       "    .dataframe tbody tr th:only-of-type {\n",
       "        vertical-align: middle;\n",
       "    }\n",
       "\n",
       "    .dataframe tbody tr th {\n",
       "        vertical-align: top;\n",
       "    }\n",
       "\n",
       "    .dataframe thead th {\n",
       "        text-align: right;\n",
       "    }\n",
       "</style>\n",
       "<table border=\"1\" class=\"dataframe\">\n",
       "  <thead>\n",
       "    <tr style=\"text-align: right;\">\n",
       "      <th></th>\n",
       "      <th>CommentPublished</th>\n",
       "      <th>CommentTextDisplay</th>\n",
       "      <th>CommentAuthorName</th>\n",
       "      <th>CommentLikeCount</th>\n",
       "      <th>CommentTotalReplyCount</th>\n",
       "      <th>FirstLetter</th>\n",
       "    </tr>\n",
       "  </thead>\n",
       "  <tbody>\n",
       "    <tr>\n",
       "      <th>0</th>\n",
       "      <td>2017-08-02T12:30:41.000Z</td>\n",
       "      <td>hi love your group😍😍</td>\n",
       "      <td>Naomi Nicole Yambao</td>\n",
       "      <td>0.0</td>\n",
       "      <td>0.0</td>\n",
       "      <td>N</td>\n",
       "    </tr>\n",
       "    <tr>\n",
       "      <th>1</th>\n",
       "      <td>2017-08-02T12:22:35.000Z</td>\n",
       "      <td>I reply love exo.</td>\n",
       "      <td>Ahmad Farhan Zarin</td>\n",
       "      <td>0.0</td>\n",
       "      <td>0.0</td>\n",
       "      <td>A</td>\n",
       "    </tr>\n",
       "    <tr>\n",
       "      <th>2</th>\n",
       "      <td>2017-08-02T10:03:26.000Z</td>\n",
       "      <td>I love exo  gussssssss 💜💜💜💜💜💜💜💜💜💜</td>\n",
       "      <td>sheridan tulio</td>\n",
       "      <td>0.0</td>\n",
       "      <td>0.0</td>\n",
       "      <td>s</td>\n",
       "    </tr>\n",
       "    <tr>\n",
       "      <th>3</th>\n",
       "      <td>2017-08-02T09:13:33.000Z</td>\n",
       "      <td>pause the video at exactly 1:10 and you nothic...</td>\n",
       "      <td>Seraph Gaming</td>\n",
       "      <td>0.0</td>\n",
       "      <td>0.0</td>\n",
       "      <td>S</td>\n",
       "    </tr>\n",
       "    <tr>\n",
       "      <th>4</th>\n",
       "      <td>2017-08-01T23:04:24.000Z</td>\n",
       "      <td>I have watched this way too many times for my ...</td>\n",
       "      <td>Ashleigh Sharman</td>\n",
       "      <td>0.0</td>\n",
       "      <td>0.0</td>\n",
       "      <td>A</td>\n",
       "    </tr>\n",
       "  </tbody>\n",
       "</table>\n",
       "</div>"
      ],
      "text/plain": [
       "           CommentPublished  \\\n",
       "0  2017-08-02T12:30:41.000Z   \n",
       "1  2017-08-02T12:22:35.000Z   \n",
       "2  2017-08-02T10:03:26.000Z   \n",
       "3  2017-08-02T09:13:33.000Z   \n",
       "4  2017-08-01T23:04:24.000Z   \n",
       "\n",
       "                                  CommentTextDisplay    CommentAuthorName  \\\n",
       "0                               hi love your group😍😍  Naomi Nicole Yambao   \n",
       "1                                  I reply love exo.   Ahmad Farhan Zarin   \n",
       "2                  I love exo  gussssssss 💜💜💜💜💜💜💜💜💜💜       sheridan tulio   \n",
       "3  pause the video at exactly 1:10 and you nothic...        Seraph Gaming   \n",
       "4  I have watched this way too many times for my ...     Ashleigh Sharman   \n",
       "\n",
       "   CommentLikeCount  CommentTotalReplyCount FirstLetter  \n",
       "0               0.0                     0.0           N  \n",
       "1               0.0                     0.0           A  \n",
       "2               0.0                     0.0           s  \n",
       "3               0.0                     0.0           S  \n",
       "4               0.0                     0.0           A  "
      ]
     },
     "execution_count": 40,
     "metadata": {},
     "output_type": "execute_result"
    }
   ],
   "source": [
    "# create list of values\n",
    "first_letter_of_name = [ name[0] for name in comments['CommentAuthorName'] ]\n",
    "\n",
    "# assign that list to a new column in the dataframe\n",
    "comments['FirstLetter'] = first_letter_of_name\n",
    "\n",
    "# display dataframe\n",
    "comments.head()"
   ]
  },
  {
   "cell_type": "markdown",
   "metadata": {},
   "source": [
    "A second way to refer to a column like ```comments['FirstLetter']``` is by writing ```comments.FirstLetter```. Both return the same result.\n",
    "\n",
    "Naturally, if the name of the column has any spaces, such as ```'First Letter'``` instead of ```'FirstLetter'```, the command ```comments.First Letter``` will not work. In that case, we recommend writing ```comments['First Letter']```."
   ]
  },
  {
   "cell_type": "markdown",
   "metadata": {},
   "source": [
    "***\n",
    "\n",
    "## Masks\n",
    "\n",
    "A common thing to do with a dataframe is slicing it in different ways. For example, we can select all comments before a specific date, or all comments by a specific author.\n",
    "\n",
    "In pandas, this is done by applying **masks**. Masks are series of Boolean (True/False) values. They are based on the idea that the expression ```x == 10```, for example, evaluates to either ```True``` or ```False```, depending on the value of ```x```. Masks do the same for a series of numbers.\n",
    "\n",
    "In the example below, ```my_mask``` is a mask applied to ```comments['CommentAuthorName']```. It contains a series of values which are ```True``` when the comment author is ```\"Elena Skylar\" ```, and ```False``` otherwise."
   ]
  },
  {
   "cell_type": "code",
   "execution_count": 25,
   "metadata": {
    "scrolled": true
   },
   "outputs": [
    {
     "name": "stdout",
     "output_type": "stream",
     "text": [
      "0        False\n",
      "1        False\n",
      "2        False\n",
      "3        False\n",
      "4        False\n",
      "5        False\n",
      "6        False\n",
      "7        False\n",
      "8        False\n",
      "9        False\n",
      "10       False\n",
      "11       False\n",
      "12       False\n",
      "13       False\n",
      "14       False\n",
      "15       False\n",
      "16       False\n",
      "17       False\n",
      "18       False\n",
      "19       False\n",
      "20       False\n",
      "21       False\n",
      "22       False\n",
      "23       False\n",
      "24       False\n",
      "25       False\n",
      "26       False\n",
      "27       False\n",
      "28       False\n",
      "29       False\n",
      "         ...  \n",
      "14966    False\n",
      "14967    False\n",
      "14968    False\n",
      "14971    False\n",
      "14972    False\n",
      "14973    False\n",
      "14974    False\n",
      "14975    False\n",
      "14976    False\n",
      "14977    False\n",
      "14978    False\n",
      "14979    False\n",
      "14980    False\n",
      "14981    False\n",
      "14982    False\n",
      "14983    False\n",
      "14984    False\n",
      "14985    False\n",
      "14986    False\n",
      "14987    False\n",
      "14988    False\n",
      "14989    False\n",
      "14991    False\n",
      "14993    False\n",
      "14994    False\n",
      "14995    False\n",
      "14996    False\n",
      "14997    False\n",
      "14998    False\n",
      "14999    False\n",
      "Name: CommentAuthorName, Length: 11770, dtype: bool\n"
     ]
    }
   ],
   "source": [
    "# Using parenthesis for clarity only\n",
    "\n",
    "my_mask = (comments['CommentAuthorName'] == \"Elena Skylar\")\n",
    "\n",
    "print(my_mask)"
   ]
  },
  {
   "cell_type": "markdown",
   "metadata": {},
   "source": [
    "### We can use masks to create new dataframes corresponding to slices of the original dataframe.\n",
    "This is done as below:"
   ]
  },
  {
   "cell_type": "code",
   "execution_count": 26,
   "metadata": {},
   "outputs": [
    {
     "data": {
      "text/html": [
       "<div>\n",
       "<style scoped>\n",
       "    .dataframe tbody tr th:only-of-type {\n",
       "        vertical-align: middle;\n",
       "    }\n",
       "\n",
       "    .dataframe tbody tr th {\n",
       "        vertical-align: top;\n",
       "    }\n",
       "\n",
       "    .dataframe thead th {\n",
       "        text-align: right;\n",
       "    }\n",
       "</style>\n",
       "<table border=\"1\" class=\"dataframe\">\n",
       "  <thead>\n",
       "    <tr style=\"text-align: right;\">\n",
       "      <th></th>\n",
       "      <th>CommentPublished</th>\n",
       "      <th>CommentTextDisplay</th>\n",
       "      <th>CommentAuthorName</th>\n",
       "      <th>CommentLikeCount</th>\n",
       "      <th>CommentTotalReplyCount</th>\n",
       "    </tr>\n",
       "  </thead>\n",
       "  <tbody>\n",
       "    <tr>\n",
       "      <th>13782</th>\n",
       "      <td>2015-05-11T07:02:25.000Z</td>\n",
       "      <td>For the ones who just discover EXO these days ...</td>\n",
       "      <td>Elena Skylar</td>\n",
       "      <td>1.0</td>\n",
       "      <td>0.0</td>\n",
       "    </tr>\n",
       "    <tr>\n",
       "      <th>13792</th>\n",
       "      <td>2015-05-10T01:43:40.000Z</td>\n",
       "      <td>My dream is to see Growl become the first 100M...</td>\n",
       "      <td>Elena Skylar</td>\n",
       "      <td>160.0</td>\n",
       "      <td>8.0</td>\n",
       "    </tr>\n",
       "    <tr>\n",
       "      <th>14010</th>\n",
       "      <td>2015-04-23T04:35:00.000Z</td>\n",
       "      <td>I watch this again and try to have the same fe...</td>\n",
       "      <td>Elena Skylar</td>\n",
       "      <td>0.0</td>\n",
       "      <td>0.0</td>\n",
       "    </tr>\n",
       "    <tr>\n",
       "      <th>14320</th>\n",
       "      <td>2015-03-22T12:34:14.000Z</td>\n",
       "      <td>OMG so close to 62MIL! Go go go EXO-L!!!</td>\n",
       "      <td>Elena Skylar</td>\n",
       "      <td>6.0</td>\n",
       "      <td>0.0</td>\n",
       "    </tr>\n",
       "    <tr>\n",
       "      <th>14405</th>\n",
       "      <td>2015-03-13T03:16:42.000Z</td>\n",
       "      <td>I love you everyday</td>\n",
       "      <td>Elena Skylar</td>\n",
       "      <td>4.0</td>\n",
       "      <td>0.0</td>\n",
       "    </tr>\n",
       "  </tbody>\n",
       "</table>\n",
       "</div>"
      ],
      "text/plain": [
       "               CommentPublished  \\\n",
       "13782  2015-05-11T07:02:25.000Z   \n",
       "13792  2015-05-10T01:43:40.000Z   \n",
       "14010  2015-04-23T04:35:00.000Z   \n",
       "14320  2015-03-22T12:34:14.000Z   \n",
       "14405  2015-03-13T03:16:42.000Z   \n",
       "\n",
       "                                      CommentTextDisplay CommentAuthorName  \\\n",
       "13782  For the ones who just discover EXO these days ...      Elena Skylar   \n",
       "13792  My dream is to see Growl become the first 100M...      Elena Skylar   \n",
       "14010  I watch this again and try to have the same fe...      Elena Skylar   \n",
       "14320           OMG so close to 62MIL! Go go go EXO-L!!!      Elena Skylar   \n",
       "14405                               I love you everyday       Elena Skylar   \n",
       "\n",
       "       CommentLikeCount  CommentTotalReplyCount  \n",
       "13782               1.0                     0.0  \n",
       "13792             160.0                     8.0  \n",
       "14010               0.0                     0.0  \n",
       "14320               6.0                     0.0  \n",
       "14405               4.0                     0.0  "
      ]
     },
     "execution_count": 26,
     "metadata": {},
     "output_type": "execute_result"
    }
   ],
   "source": [
    "mask1 = (comments['CommentAuthorName'] == \"Elena Skylar\") # Using parenthesis for clarity only\n",
    "\n",
    "comments_by_user = comments[mask1]\n",
    "\n",
    "comments_by_user.head()"
   ]
  },
  {
   "cell_type": "code",
   "execution_count": null,
   "metadata": {},
   "outputs": [],
   "source": [
    "# A shorter way to do it\n",
    "\n",
    "comments_by_user = comments[ comments['CommentAuthorName'] == \"Elena Skylar\" ]\n",
    "\n",
    "comments_by_user.head()"
   ]
  },
  {
   "cell_type": "markdown",
   "metadata": {},
   "source": [
    "### Masks can be combined. The result is always another dataframe.\n",
    "\n",
    "You can combine masks using ```&``` and ```|```, which stand for ```and``` and ```or```. For example:\n",
    "\n",
    "~~~ python\n",
    "mask1 = (comments['CommentAuthorName']  == \"Elena Skylar\")\n",
    "mask2 = (comments['CommentLikeCount'] > 10)\n",
    "\n",
    "mask_and = mask1 & mask2\n",
    "mask_or  = mask1 | mask2\n",
    "~~~\n",
    "\n",
    "In the example above,\n",
    "\n",
    "```mask_and``` is a series which is ```True``` when both ```mask1``` and ```mask2``` are ```True```, and false otherwise,\n",
    "\n",
    "and ```mask_or``` is a series which is ```True``` when either ```mask1``` or ```mask2``` (or both) are ```True```, and false when both are ```False```.\n",
    "\n",
    "Here's a dataframe combining one mask on the key ```'CommentAuthorName'``` and another on ```'CommentLikeCount'```:"
   ]
  },
  {
   "cell_type": "code",
   "execution_count": 42,
   "metadata": {},
   "outputs": [
    {
     "data": {
      "text/html": [
       "<div>\n",
       "<style scoped>\n",
       "    .dataframe tbody tr th:only-of-type {\n",
       "        vertical-align: middle;\n",
       "    }\n",
       "\n",
       "    .dataframe tbody tr th {\n",
       "        vertical-align: top;\n",
       "    }\n",
       "\n",
       "    .dataframe thead th {\n",
       "        text-align: right;\n",
       "    }\n",
       "</style>\n",
       "<table border=\"1\" class=\"dataframe\">\n",
       "  <thead>\n",
       "    <tr style=\"text-align: right;\">\n",
       "      <th></th>\n",
       "      <th>CommentPublished</th>\n",
       "      <th>CommentTextDisplay</th>\n",
       "      <th>CommentAuthorName</th>\n",
       "      <th>CommentLikeCount</th>\n",
       "      <th>CommentTotalReplyCount</th>\n",
       "      <th>FirstLetter</th>\n",
       "    </tr>\n",
       "  </thead>\n",
       "  <tbody>\n",
       "    <tr>\n",
       "      <th>13792</th>\n",
       "      <td>2015-05-10T01:43:40.000Z</td>\n",
       "      <td>My dream is to see Growl become the first 100M...</td>\n",
       "      <td>Elena Skylar</td>\n",
       "      <td>160.0</td>\n",
       "      <td>8.0</td>\n",
       "      <td>E</td>\n",
       "    </tr>\n",
       "    <tr>\n",
       "      <th>14533</th>\n",
       "      <td>2015-03-01T03:42:23.000Z</td>\n",
       "      <td>I heard the news that this comeback EXO will b...</td>\n",
       "      <td>Elena Skylar</td>\n",
       "      <td>62.0</td>\n",
       "      <td>13.0</td>\n",
       "      <td>E</td>\n",
       "    </tr>\n",
       "  </tbody>\n",
       "</table>\n",
       "</div>"
      ],
      "text/plain": [
       "               CommentPublished  \\\n",
       "13792  2015-05-10T01:43:40.000Z   \n",
       "14533  2015-03-01T03:42:23.000Z   \n",
       "\n",
       "                                      CommentTextDisplay CommentAuthorName  \\\n",
       "13792  My dream is to see Growl become the first 100M...      Elena Skylar   \n",
       "14533  I heard the news that this comeback EXO will b...      Elena Skylar   \n",
       "\n",
       "       CommentLikeCount  CommentTotalReplyCount FirstLetter  \n",
       "13792             160.0                     8.0           E  \n",
       "14533              62.0                    13.0           E  "
      ]
     },
     "execution_count": 42,
     "metadata": {},
     "output_type": "execute_result"
    }
   ],
   "source": [
    "mask1 = (comments['CommentAuthorName']  == \"Elena Skylar\")\n",
    "mask2 = (comments['CommentLikeCount'] > 10)\n",
    "\n",
    "mask_and = mask1 & mask2\n",
    "\n",
    "comments_many_likes = comments[mask_and]\n",
    "\n",
    "comments_many_likes.head()"
   ]
  },
  {
   "cell_type": "code",
   "execution_count": 44,
   "metadata": {},
   "outputs": [
    {
     "data": {
      "text/html": [
       "<div>\n",
       "<style scoped>\n",
       "    .dataframe tbody tr th:only-of-type {\n",
       "        vertical-align: middle;\n",
       "    }\n",
       "\n",
       "    .dataframe tbody tr th {\n",
       "        vertical-align: top;\n",
       "    }\n",
       "\n",
       "    .dataframe thead th {\n",
       "        text-align: right;\n",
       "    }\n",
       "</style>\n",
       "<table border=\"1\" class=\"dataframe\">\n",
       "  <thead>\n",
       "    <tr style=\"text-align: right;\">\n",
       "      <th></th>\n",
       "      <th>CommentPublished</th>\n",
       "      <th>CommentTextDisplay</th>\n",
       "      <th>CommentAuthorName</th>\n",
       "      <th>CommentLikeCount</th>\n",
       "      <th>CommentTotalReplyCount</th>\n",
       "      <th>FirstLetter</th>\n",
       "    </tr>\n",
       "  </thead>\n",
       "  <tbody>\n",
       "    <tr>\n",
       "      <th>13792</th>\n",
       "      <td>2015-05-10T01:43:40.000Z</td>\n",
       "      <td>My dream is to see Growl become the first 100M...</td>\n",
       "      <td>Elena Skylar</td>\n",
       "      <td>160.0</td>\n",
       "      <td>8.0</td>\n",
       "      <td>E</td>\n",
       "    </tr>\n",
       "    <tr>\n",
       "      <th>14533</th>\n",
       "      <td>2015-03-01T03:42:23.000Z</td>\n",
       "      <td>I heard the news that this comeback EXO will b...</td>\n",
       "      <td>Elena Skylar</td>\n",
       "      <td>62.0</td>\n",
       "      <td>13.0</td>\n",
       "      <td>E</td>\n",
       "    </tr>\n",
       "  </tbody>\n",
       "</table>\n",
       "</div>"
      ],
      "text/plain": [
       "               CommentPublished  \\\n",
       "13792  2015-05-10T01:43:40.000Z   \n",
       "14533  2015-03-01T03:42:23.000Z   \n",
       "\n",
       "                                      CommentTextDisplay CommentAuthorName  \\\n",
       "13792  My dream is to see Growl become the first 100M...      Elena Skylar   \n",
       "14533  I heard the news that this comeback EXO will b...      Elena Skylar   \n",
       "\n",
       "       CommentLikeCount  CommentTotalReplyCount FirstLetter  \n",
       "13792             160.0                     8.0           E  \n",
       "14533              62.0                    13.0           E  "
      ]
     },
     "execution_count": 44,
     "metadata": {},
     "output_type": "execute_result"
    }
   ],
   "source": [
    "# You can do it all in one command:\n",
    "\n",
    "comments[ (comments['CommentAuthorName']  == \"Elena Skylar\")\n",
    "        & (comments['CommentLikeCount'] > 10) ].head()"
   ]
  },
  {
   "cell_type": "markdown",
   "metadata": {},
   "source": [
    "## Iterating over rows with `df.iterrows()`"
   ]
  },
  {
   "cell_type": "markdown",
   "metadata": {},
   "source": [
    "To iterate over all rows in a dataframe ```df```, you can use ```df.iterrows()``` in the following way:\n",
    "\n",
    "~~~ python\n",
    "for index, row in df.iterrows():\n",
    "    do_something \n",
    "~~~\n",
    "\n",
    "In this iteration, the variable ```index``` will run over the index of the dataframe, i.e. its leftmost column, while the variable ```row``` will run over its rows.\n",
    "\n",
    "You can access the value corresponding to each column by writing the key name inside square brackets, as below:\n",
    "\n",
    "~~~ python\n",
    "for index, row in df.iterrows():\n",
    "    do_something( row['key_name_here'] )\n",
    "~~~\n",
    "\n",
    "For the rows, just like for dataframe columns, the format ```row.key_name_here``` is equivalent to ```row['key_name_here']```.\n",
    "\n",
    "Below, we print the columns values for the first five entries in the the ```comments``` dataframe."
   ]
  },
  {
   "cell_type": "code",
   "execution_count": 46,
   "metadata": {},
   "outputs": [
    {
     "name": "stdout",
     "output_type": "stream",
     "text": [
      "0\n",
      "2017-08-02T12:30:41.000Z\n",
      "hi love your group😍😍\n",
      "Naomi Nicole Yambao\n",
      "0.0\n",
      "\n",
      "1\n",
      "2017-08-02T12:22:35.000Z\n",
      "I reply love exo.\n",
      "Ahmad Farhan Zarin\n",
      "0.0\n",
      "\n",
      "2\n",
      "2017-08-02T10:03:26.000Z\n",
      "I love exo  gussssssss 💜💜💜💜💜💜💜💜💜💜\n",
      "sheridan tulio\n",
      "0.0\n",
      "\n",
      "3\n",
      "2017-08-02T09:13:33.000Z\n",
      "pause the video at exactly 1:10 and you nothice that theres a person in top right in the window like if u scared\n",
      "Seraph Gaming\n",
      "0.0\n",
      "\n",
      "4\n",
      "2017-08-01T23:04:24.000Z\n",
      "I have watched this way too many times for my parents to not consider sending me to a mental asylum\n",
      "Ashleigh Sharman\n",
      "0.0\n",
      "\n"
     ]
    }
   ],
   "source": [
    "first_comments = comments.head(5)\n",
    "\n",
    "for index, row in first_comments.iterrows():\n",
    "    print( index )\n",
    "    print( row['CommentPublished']   )\n",
    "    print( row.CommentTextDisplay )\n",
    "    print( row.CommentAuthorName  )\n",
    "    print( row.CommentLikeCount   )\n",
    "    print()"
   ]
  },
  {
   "cell_type": "markdown",
   "metadata": {},
   "source": [
    "There is much more about pandas, but let's now wrap that up with one final topic: **how to visualise your dataset.**"
   ]
  },
  {
   "cell_type": "markdown",
   "metadata": {},
   "source": [
    "***\n",
    "\n",
    "# Basic statistics and data visualisation\n",
    "\n",
    "Now that we have learned the basics of how to handle a dataset, it is time to visualise some of its statistics. \n",
    "\n",
    "We will be importing the ```matplotlib``` and ```seaborn``` libraries, just to make your plots a bit clearer. We recommend you take a look at the seaborn website for some examples of gorgeous plots you can make with python:\n",
    "https://seaborn.pydata.org/examples/index.html"
   ]
  },
  {
   "cell_type": "code",
   "execution_count": 26,
   "metadata": {},
   "outputs": [],
   "source": [
    "import matplotlib.pyplot as plt\n",
    "%matplotlib inline\n",
    "\n",
    "import seaborn as sns\n",
    "\n",
    "# This sets a style for your plots. You can also try 'talk', 'notebook' or 'paper'.\n",
    "sns.set('poster')\n",
    "sns.set_style('whitegrid')"
   ]
  },
  {
   "cell_type": "code",
   "execution_count": 27,
   "metadata": {},
   "outputs": [
    {
     "data": {
      "text/plain": [
       "'0.9.0'"
      ]
     },
     "execution_count": 27,
     "metadata": {},
     "output_type": "execute_result"
    }
   ],
   "source": [
    "sns.__version__"
   ]
  },
  {
   "cell_type": "markdown",
   "metadata": {},
   "source": [
    "### Plot 1 - Let's make a histogram\n",
    "\n",
    "A histogram is a graphical display of data using bars of different heights. In a histogram, each bar groups numbers into ranges, like 0-10, 10-20 and 20-30. Taller bars show that more data falls in that range. A histogram displays the shape and spread of sample data.\n",
    "\n",
    "Let's try to make a histogram for the number of likes every comment receives. This is done by running ```comments['CommentLikeCount'].hist()```:"
   ]
  },
  {
   "cell_type": "code",
   "execution_count": 28,
   "metadata": {},
   "outputs": [
    {
     "data": {
      "image/png": "[encoded data removed]",
      "text/plain": [
       "<Figure size 432x288 with 1 Axes>"
      ]
     },
     "metadata": {},
     "output_type": "display_data"
    }
   ],
   "source": [
    "histogram = comments['CommentLikeCount'].hist()"
   ]
  },
  {
   "cell_type": "markdown",
   "metadata": {},
   "source": [
    "Well, this isn't very useful. It shows that most comments receive between 0 and around 500 likes, which isn't exactly surprising.\n",
    "\n",
    "Let's look at this plot on a logarithmic scale, that is, looking at orders of magnitude on the y axis:"
   ]
  },
  {
   "cell_type": "code",
   "execution_count": 29,
   "metadata": {},
   "outputs": [
    {
     "data": {
      "image/png": "[encoded data removed]",
      "text/plain": [
       "<Figure size 432x288 with 1 Axes>"
      ]
     },
     "metadata": {},
     "output_type": "display_data"
    }
   ],
   "source": [
    "histogram = comments['CommentLikeCount'].hist()\n",
    "\n",
    "plt.yscale('log')"
   ]
  },
  {
   "cell_type": "markdown",
   "metadata": {},
   "source": [
    "This is a little bit better. As you know, $10^0$, $10^1$ and $10^2$ stand for $1$, $10$ and $100$, and so on.\n",
    "\n",
    "This plot is saying that there are about 10000 comments with few likes, and very few comments (around $10^0 = 1$) comments with over 1000 likes.\n",
    "\n",
    "Let's tweak this plot a little more, by increasing the number of _bins_ in the histogram, increasing the figure size, and adding a label to each axis:"
   ]
  },
  {
   "cell_type": "code",
   "execution_count": 30,
   "metadata": {
    "scrolled": false
   },
   "outputs": [
    {
     "data": {
      "text/plain": [
       "Text(0, 0.5, 'number of comments')"
      ]
     },
     "execution_count": 30,
     "metadata": {},
     "output_type": "execute_result"
    },
    {
     "data": {
      "image/png": "[encoded data removed]",
      "text/plain": [
       "<Figure size 576x432 with 1 Axes>"
      ]
     },
     "metadata": {},
     "output_type": "display_data"
    }
   ],
   "source": [
    "# make histogram with 50 bins\n",
    "# and a figure size of 8 inches x 6 inches\n",
    "\n",
    "histogram = comments['CommentLikeCount'].hist( bins=50, figsize=(8,6) )\n",
    "\n",
    "histogram.set_yscale('log')\n",
    "\n",
    "histogram.set_xlabel('number of likes')\n",
    "histogram.set_ylabel('number of comments')"
   ]
  },
  {
   "cell_type": "markdown",
   "metadata": {},
   "source": [
    "This makes the pattern much clearer!\n",
    "\n",
    "We can also use ```iterrows``` to look in more detail at the comments with the most likes, indicated by a high ```'CommentLikeCount'```:"
   ]
  },
  {
   "cell_type": "code",
   "execution_count": 31,
   "metadata": {},
   "outputs": [
    {
     "name": "stdout",
     "output_type": "stream",
     "text": [
      "2415.0 likes: Who's watching this in 2017? \n",
      "\n",
      "2286.0 likes: The day came today where I finally learnt all of their names  And honestly it feels like one of the greatest accomplishments of my life lmao \n",
      "\n",
      "2108.0 likes: *aggressively stares at my bias* \n",
      "\n",
      "3821.0 likes: I still remember the day I first watched this mv. I was so overwhelmed and taken aback. It's been a wild ride and I'm still here. Love Exo, love anyone who continues to support ot9. \n",
      "\n",
      "2330.0 likes: 2012- i found you.  2013- i fell in love with you.  2014- i missed you.  2015- i trusted you  2016- i still  support you. \n",
      "\n"
     ]
    }
   ],
   "source": [
    "mask1 = ( comments['CommentLikeCount'] > 2000 )\n",
    "\n",
    "most_liked_comments = comments[mask1]\n",
    "\n",
    "for index, row in most_liked_comments.iterrows():\n",
    "    print( row['CommentLikeCount'] , \"likes:\", row['CommentTextDisplay'] , \"\\n\")"
   ]
  },
  {
   "cell_type": "markdown",
   "metadata": {},
   "source": [
    "#### And here are the comments with the most replies, indicated by a higher ```'CommentTotalReplyCount'```:"
   ]
  },
  {
   "cell_type": "code",
   "execution_count": 32,
   "metadata": {},
   "outputs": [
    {
     "name": "stdout",
     "output_type": "stream",
     "text": [
      "221.0 replies: Who's watching this in 2017? \n",
      "\n",
      "240.0 replies: One day this will reach 100 m. Let's go exo-ls!! \n",
      "\n",
      "278.0 replies: Dear new EXO-ls :  There are two things you need to know,  Don't fall in love with the pink haired boy.  Don't fall in love with the tall blonde boy with red shoes and a tie.   Trust me don't because your heart will be hurt in the end \n",
      "\n"
     ]
    }
   ],
   "source": [
    "mask2 = ( comments['CommentTotalReplyCount'] > 200 )\n",
    "most_replied_comments = comments[mask2]\n",
    "\n",
    "for index, row in most_replied_comments.iterrows():\n",
    "    print( row['CommentTotalReplyCount'] , \"replies:\", row['CommentTextDisplay'] , \"\\n\")"
   ]
  },
  {
   "cell_type": "markdown",
   "metadata": {},
   "source": [
    "### Plot 2 - Let's make a scatter plot\n",
    "\n",
    "Notice how the comments with the highest numbers of replies are not necessarily the comments with the highest numbers of likes. We can investigate the relation between both variables by making a *scatter plot*. This is a graph in which the values of two variables are plotted as dots along two axes, the pattern of the resulting points revealing any correlation present.\n",
    "\n",
    "You can make a scatter plot using ```comments.plot.scatter``` and specifying the ```x``` and ```y``` axes:"
   ]
  },
  {
   "cell_type": "code",
   "execution_count": 33,
   "metadata": {},
   "outputs": [
    {
     "name": "stderr",
     "output_type": "stream",
     "text": [
      "'c' argument looks like a single numeric RGB or RGBA sequence, which should be avoided as value-mapping will have precedence in case its length matches with 'x' & 'y'.  Please use a 2-D array with a single row if you really want to specify the same RGB or RGBA value for all points.\n"
     ]
    },
    {
     "data": {
      "image/png": "[encoded data removed]",
      "text/plain": [
       "<Figure size 432x288 with 1 Axes>"
      ]
     },
     "metadata": {},
     "output_type": "display_data"
    }
   ],
   "source": [
    "scatter_plot = comments.plot.scatter(x='CommentTotalReplyCount', y='CommentLikeCount')"
   ]
  },
  {
   "cell_type": "markdown",
   "metadata": {},
   "source": [
    "Note how since most values for ```'CommentTotalReplyCount'``` and ```'CommentLikeCount'``` are low, the plot is very dense in that range.\n",
    "\n",
    "We can address that by plotting the x and y axes in logarithmic scale. \n",
    "\n",
    "And again, let's increase the figure size (_figsize_), and add a label to each axis:"
   ]
  },
  {
   "cell_type": "code",
   "execution_count": 34,
   "metadata": {},
   "outputs": [
    {
     "name": "stderr",
     "output_type": "stream",
     "text": [
      "'c' argument looks like a single numeric RGB or RGBA sequence, which should be avoided as value-mapping will have precedence in case its length matches with 'x' & 'y'.  Please use a 2-D array with a single row if you really want to specify the same RGB or RGBA value for all points.\n"
     ]
    },
    {
     "data": {
      "text/plain": [
       "Text(0, 0.5, 'number of likes')"
      ]
     },
     "execution_count": 34,
     "metadata": {},
     "output_type": "execute_result"
    },
    {
     "data": {
      "image/png": "[encoded data removed]",
      "text/plain": [
       "<Figure size 504x432 with 1 Axes>"
      ]
     },
     "metadata": {},
     "output_type": "display_data"
    }
   ],
   "source": [
    "# figsize: 7 inches x 6 inches\n",
    "\n",
    "mask = (comments.CommentTotalReplyCount>0) & (comments.CommentLikeCount > 0)\n",
    "\n",
    "scatter_plot = comments[mask].plot.scatter(x='CommentTotalReplyCount',\n",
    "                                           y='CommentLikeCount',\n",
    "                                           figsize=(7,6))\n",
    "\n",
    "scatter_plot.set_yscale('log')\n",
    "scatter_plot.set_xscale('log')\n",
    "\n",
    "scatter_plot.set_xlabel('number of replies')\n",
    "scatter_plot.set_ylabel('number of likes')"
   ]
  },
  {
   "cell_type": "markdown",
   "metadata": {},
   "source": [
    "This plot contains a lot of information. There are many comments with hundreds of likes but no reply, as well as comments with tens of replies but no like. However, as both numbers grow, they become correlated. For instance, a post with over 100 likes is likely to have at least 10 replies."
   ]
  },
  {
   "cell_type": "markdown",
   "metadata": {},
   "source": [
    "***\n",
    "\n",
    "Much like the previous lecture notes, this is by no means a full course on _pandas_, data analysis, data visualisation, or python for that matter. That said, we hope this was enough to give you a taste of what they can do for you, and of how you can use them as part of your research toolkit."
   ]
  }
 ],
 "metadata": {
  "anaconda-cloud": {},
  "kernelspec": {
   "display_name": "Python 3",
   "language": "python",
   "name": "python3"
  },
  "language_info": {
   "codemirror_mode": {
    "name": "ipython",
    "version": 3
   },
   "file_extension": ".py",
   "mimetype": "text/x-python",
   "name": "python",
   "nbconvert_exporter": "python",
   "pygments_lexer": "ipython3",
   "version": "3.8.8"
  }
 },
 "nbformat": 4,
 "nbformat_minor": 1
}
